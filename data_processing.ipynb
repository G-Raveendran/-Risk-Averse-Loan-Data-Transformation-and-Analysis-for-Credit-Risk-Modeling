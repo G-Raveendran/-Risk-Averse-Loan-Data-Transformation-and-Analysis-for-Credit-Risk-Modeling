{
 "cells": [
  {
   "cell_type": "markdown",
   "id": "d406a39c",
   "metadata": {},
   "source": [
    "# Importing the packages"
   ]
  },
  {
   "cell_type": "code",
   "execution_count": 1,
   "id": "9508eb96",
   "metadata": {},
   "outputs": [],
   "source": [
    "import numpy as np"
   ]
  },
  {
   "cell_type": "code",
   "execution_count": 2,
   "id": "79104d53",
   "metadata": {},
   "outputs": [],
   "source": [
    "np.set_printoptions(suppress =True, linewidth =100, precision = 2)"
   ]
  },
  {
   "cell_type": "markdown",
   "id": "01532eca",
   "metadata": {},
   "source": [
    "Importing the Data"
   ]
  },
  {
   "cell_type": "code",
   "execution_count": 3,
   "id": "d566c18f",
   "metadata": {},
   "outputs": [
    {
     "data": {
      "text/plain": [
       "array([[48010226.  ,         nan,    35000.  , ...,         nan,         nan,     9452.96],\n",
       "       [57693261.  ,         nan,    30000.  , ...,         nan,         nan,     4679.7 ],\n",
       "       [59432726.  ,         nan,    15000.  , ...,         nan,         nan,     1969.83],\n",
       "       ...,\n",
       "       [50415990.  ,         nan,    10000.  , ...,         nan,         nan,     2185.64],\n",
       "       [46154151.  ,         nan,         nan, ...,         nan,         nan,     3199.4 ],\n",
       "       [66055249.  ,         nan,    10000.  , ...,         nan,         nan,      301.9 ]])"
      ]
     },
     "execution_count": 3,
     "metadata": {},
     "output_type": "execute_result"
    }
   ],
   "source": [
    "raw_data_np = np.genfromtxt(\"loan-data.csv\", delimiter = ';', skip_header =1, autostrip = True)\n",
    "raw_data_np"
   ]
  },
  {
   "cell_type": "markdown",
   "id": "51db3269",
   "metadata": {},
   "source": [
    "## Checking for incomplete Data"
   ]
  },
  {
   "cell_type": "code",
   "execution_count": 4,
   "id": "8a907397",
   "metadata": {},
   "outputs": [
    {
     "data": {
      "text/plain": [
       "88005"
      ]
     },
     "execution_count": 4,
     "metadata": {},
     "output_type": "execute_result"
    }
   ],
   "source": [
    "np.isnan(raw_data_np).sum()"
   ]
  },
  {
   "cell_type": "code",
   "execution_count": 5,
   "id": "88bf9e8e",
   "metadata": {},
   "outputs": [
    {
     "name": "stderr",
     "output_type": "stream",
     "text": [
      "C:\\Users\\EE User\\AppData\\Local\\Temp\\ipykernel_14384\\3983241459.py:2: RuntimeWarning: Mean of empty slice\n",
      "  temporary_mean = np.nanmean(raw_data_np, axis = 0)\n"
     ]
    }
   ],
   "source": [
    "temporary_fill = np.nanmax(raw_data_np) + 1\n",
    "temporary_mean = np.nanmean(raw_data_np, axis = 0)"
   ]
  },
  {
   "cell_type": "code",
   "execution_count": 6,
   "id": "48f5a65f",
   "metadata": {},
   "outputs": [
    {
     "data": {
      "text/plain": [
       "array([54015809.19,         nan,    15273.46,         nan,    15311.04,         nan,       16.62,\n",
       "            440.92,         nan,         nan,         nan,         nan,         nan,     3143.85])"
      ]
     },
     "execution_count": 6,
     "metadata": {},
     "output_type": "execute_result"
    }
   ],
   "source": [
    "temporary_mean"
   ]
  },
  {
   "cell_type": "code",
   "execution_count": 7,
   "id": "4900891c",
   "metadata": {},
   "outputs": [
    {
     "name": "stderr",
     "output_type": "stream",
     "text": [
      "C:\\Users\\EE User\\AppData\\Local\\Temp\\ipykernel_14384\\3321554586.py:1: RuntimeWarning: All-NaN slice encountered\n",
      "  temporary_stats = np.array([np.nanmin(raw_data_np, axis = 0),temporary_mean, np.nanmax(raw_data_np, axis = 0)])\n"
     ]
    }
   ],
   "source": [
    "temporary_stats = np.array([np.nanmin(raw_data_np, axis = 0),temporary_mean, np.nanmax(raw_data_np, axis = 0)])"
   ]
  },
  {
   "cell_type": "code",
   "execution_count": 8,
   "id": "f3d4d7ce",
   "metadata": {},
   "outputs": [
    {
     "data": {
      "text/plain": [
       "array([[  373332.  ,         nan,     1000.  ,         nan,     1000.  ,         nan,        6.  ,\n",
       "              31.42,         nan,         nan,         nan,         nan,         nan,        0.  ],\n",
       "       [54015809.19,         nan,    15273.46,         nan,    15311.04,         nan,       16.62,\n",
       "             440.92,         nan,         nan,         nan,         nan,         nan,     3143.85],\n",
       "       [68616519.  ,         nan,    35000.  ,         nan,    35000.  ,         nan,       28.99,\n",
       "            1372.97,         nan,         nan,         nan,         nan,         nan,    41913.62]])"
      ]
     },
     "execution_count": 8,
     "metadata": {},
     "output_type": "execute_result"
    }
   ],
   "source": [
    "temporary_stats"
   ]
  },
  {
   "cell_type": "markdown",
   "id": "e2e90cf5",
   "metadata": {},
   "source": [
    "## Splitting the Dataset "
   ]
  },
  {
   "cell_type": "markdown",
   "id": "a28524e7",
   "metadata": {},
   "source": [
    "# ##splitting the coloumns"
   ]
  },
  {
   "cell_type": "code",
   "execution_count": 9,
   "id": "250a2ab8",
   "metadata": {},
   "outputs": [
    {
     "data": {
      "text/plain": [
       "array([ 1,  3,  5,  8,  9, 10, 11, 12], dtype=int64)"
      ]
     },
     "execution_count": 9,
     "metadata": {},
     "output_type": "execute_result"
    }
   ],
   "source": [
    "columns_strings = np.argwhere(np.isnan(temporary_mean)).squeeze()\n",
    "columns_strings"
   ]
  },
  {
   "cell_type": "code",
   "execution_count": 10,
   "id": "70531c9a",
   "metadata": {},
   "outputs": [
    {
     "data": {
      "text/plain": [
       "array([ 0,  2,  4,  6,  7, 13], dtype=int64)"
      ]
     },
     "execution_count": 10,
     "metadata": {},
     "output_type": "execute_result"
    }
   ],
   "source": [
    "columns_numeric = np.argwhere(np.isnan(temporary_mean) == False).squeeze()\n",
    "columns_numeric"
   ]
  },
  {
   "cell_type": "markdown",
   "id": "3d50a3c7",
   "metadata": {},
   "source": [
    "## Re-importing the dataset"
   ]
  },
  {
   "cell_type": "code",
   "execution_count": 21,
   "id": "132734e3",
   "metadata": {},
   "outputs": [
    {
     "data": {
      "text/plain": [
       "array([['May-15', 'Current', '36 months', ..., 'Verified',\n",
       "        'https://www.lendingclub.com/browse/loanDetail.action?loan_id=48010226', 'CA'],\n",
       "       ['', 'Current', '36 months', ..., 'Source Verified',\n",
       "        'https://www.lendingclub.com/browse/loanDetail.action?loan_id=57693261', 'NY'],\n",
       "       ['Sep-15', 'Current', '36 months', ..., 'Verified',\n",
       "        'https://www.lendingclub.com/browse/loanDetail.action?loan_id=59432726', 'PA'],\n",
       "       ...,\n",
       "       ['Jun-15', 'Current', '36 months', ..., 'Source Verified',\n",
       "        'https://www.lendingclub.com/browse/loanDetail.action?loan_id=50415990', 'CA'],\n",
       "       ['Apr-15', 'Current', '36 months', ..., 'Source Verified',\n",
       "        'https://www.lendingclub.com/browse/loanDetail.action?loan_id=46154151', 'OH'],\n",
       "       ['Dec-15', 'Current', '36 months', ..., '',\n",
       "        'https://www.lendingclub.com/browse/loanDetail.action?loan_id=66055249', 'IL']],\n",
       "      dtype='<U69')"
      ]
     },
     "execution_count": 21,
     "metadata": {},
     "output_type": "execute_result"
    }
   ],
   "source": [
    "loan_data_strings = np.genfromtxt(\"loan-data.csv\", \n",
    "                                  delimiter = ';',\n",
    "                                  skip_header =1, \n",
    "                                  autostrip = True,\n",
    "                                 usecols = columns_strings,\n",
    "                                 dtype = str)\n",
    "loan_data_strings"
   ]
  },
  {
   "cell_type": "code",
   "execution_count": 22,
   "id": "06c27382",
   "metadata": {},
   "outputs": [
    {
     "data": {
      "text/plain": [
       "array([[48010226.  ,    35000.  ,    35000.  ,       13.33,     1184.86,     9452.96],\n",
       "       [57693261.  ,    30000.  ,    30000.  , 68616520.  ,      938.57,     4679.7 ],\n",
       "       [59432726.  ,    15000.  ,    15000.  , 68616520.  ,      494.86,     1969.83],\n",
       "       ...,\n",
       "       [50415990.  ,    10000.  ,    10000.  , 68616520.  , 68616520.  ,     2185.64],\n",
       "       [46154151.  , 68616520.  ,    10000.  ,       16.55,      354.3 ,     3199.4 ],\n",
       "       [66055249.  ,    10000.  ,    10000.  , 68616520.  ,      309.97,      301.9 ]])"
      ]
     },
     "execution_count": 22,
     "metadata": {},
     "output_type": "execute_result"
    }
   ],
   "source": [
    "loan_data_numeric = np.genfromtxt(\"loan-data.csv\", \n",
    "                                  delimiter = ';',\n",
    "                                  skip_header =1, \n",
    "                                  autostrip = True,\n",
    "                                 usecols = columns_numeric,\n",
    "                                 filling_values = temporary_fill)\n",
    "loan_data_numeric"
   ]
  },
  {
   "cell_type": "markdown",
   "id": "a65bd031",
   "metadata": {},
   "source": [
    "## The Name of the coloumns"
   ]
  },
  {
   "cell_type": "code",
   "execution_count": 23,
   "id": "3d9319f9",
   "metadata": {
    "scrolled": true
   },
   "outputs": [
    {
     "data": {
      "text/plain": [
       "array(['id', 'issue_d', 'loan_amnt', 'loan_status', 'funded_amnt', 'term', 'int_rate',\n",
       "       'installment', 'grade', 'sub_grade', 'verification_status', 'url', 'addr_state',\n",
       "       'total_pymnt'], dtype='<U19')"
      ]
     },
     "execution_count": 23,
     "metadata": {},
     "output_type": "execute_result"
    }
   ],
   "source": [
    "header_full = np.genfromtxt(\"loan-data.csv\", \n",
    "                                  delimiter = ';', \n",
    "                                  autostrip = True,\n",
    "                                 skip_footer = raw_data_np.shape[0],\n",
    "                                 dtype = str)\n",
    "header_full"
   ]
  },
  {
   "cell_type": "code",
   "execution_count": 24,
   "id": "db184f07",
   "metadata": {},
   "outputs": [],
   "source": [
    "header_strings,header_numeric = header_full[columns_strings],header_full[columns_numeric]"
   ]
  },
  {
   "cell_type": "code",
   "execution_count": 25,
   "id": "9d18576f",
   "metadata": {},
   "outputs": [
    {
     "data": {
      "text/plain": [
       "array(['issue_d', 'loan_status', 'term', 'grade', 'sub_grade', 'verification_status', 'url',\n",
       "       'addr_state'], dtype='<U19')"
      ]
     },
     "execution_count": 25,
     "metadata": {},
     "output_type": "execute_result"
    }
   ],
   "source": [
    "header_strings"
   ]
  },
  {
   "cell_type": "code",
   "execution_count": 26,
   "id": "432c9181",
   "metadata": {},
   "outputs": [
    {
     "data": {
      "text/plain": [
       "array(['id', 'loan_amnt', 'funded_amnt', 'int_rate', 'installment', 'total_pymnt'], dtype='<U19')"
      ]
     },
     "execution_count": 26,
     "metadata": {},
     "output_type": "execute_result"
    }
   ],
   "source": [
    "header_numeric"
   ]
  },
  {
   "cell_type": "markdown",
   "id": "947d3edb",
   "metadata": {},
   "source": [
    "# Creating checkpoints:"
   ]
  },
  {
   "cell_type": "markdown",
   "id": "9b7c09c3",
   "metadata": {},
   "source": [
    "Places throughout our code where we store a copy of our dataset(or only parts of it)\n",
    "we want to avoid losing a lot of progress\n",
    "aaaaaaaan extremly reliable practice when we need to clean or preprocess many parts of a dataset."
   ]
  },
  {
   "cell_type": "code",
   "execution_count": 27,
   "id": "5f6be392",
   "metadata": {},
   "outputs": [],
   "source": [
    "def checkpoint(file_name, checkpoint_header, checkpoint_data):\n",
    "    np.savez(file_name, header = checkpoint_header, data = checkpoint_data)\n",
    "    checkpoint_variable = np.load(file_name + \".npz\")\n",
    "    return (checkpoint_variable)"
   ]
  },
  {
   "cell_type": "code",
   "execution_count": 28,
   "id": "68c5a516",
   "metadata": {},
   "outputs": [],
   "source": [
    "checkpoint_test = checkpoint(\"checkpoint_test\", header_strings, loan_data_strings)"
   ]
  },
  {
   "cell_type": "code",
   "execution_count": 29,
   "id": "66335f70",
   "metadata": {},
   "outputs": [
    {
     "data": {
      "text/plain": [
       "array([['May-15', 'Current', '36 months', ..., 'Verified',\n",
       "        'https://www.lendingclub.com/browse/loanDetail.action?loan_id=48010226', 'CA'],\n",
       "       ['', 'Current', '36 months', ..., 'Source Verified',\n",
       "        'https://www.lendingclub.com/browse/loanDetail.action?loan_id=57693261', 'NY'],\n",
       "       ['Sep-15', 'Current', '36 months', ..., 'Verified',\n",
       "        'https://www.lendingclub.com/browse/loanDetail.action?loan_id=59432726', 'PA'],\n",
       "       ...,\n",
       "       ['Jun-15', 'Current', '36 months', ..., 'Source Verified',\n",
       "        'https://www.lendingclub.com/browse/loanDetail.action?loan_id=50415990', 'CA'],\n",
       "       ['Apr-15', 'Current', '36 months', ..., 'Source Verified',\n",
       "        'https://www.lendingclub.com/browse/loanDetail.action?loan_id=46154151', 'OH'],\n",
       "       ['Dec-15', 'Current', '36 months', ..., '',\n",
       "        'https://www.lendingclub.com/browse/loanDetail.action?loan_id=66055249', 'IL']],\n",
       "      dtype='<U69')"
      ]
     },
     "execution_count": 29,
     "metadata": {},
     "output_type": "execute_result"
    }
   ],
   "source": [
    "checkpoint_test['data']"
   ]
  },
  {
   "cell_type": "code",
   "execution_count": 30,
   "id": "54dd84b6",
   "metadata": {},
   "outputs": [
    {
     "data": {
      "text/plain": [
       "True"
      ]
     },
     "execution_count": 30,
     "metadata": {},
     "output_type": "execute_result"
    }
   ],
   "source": [
    "np.array_equal(checkpoint_test['data'],loan_data_strings)"
   ]
  },
  {
   "cell_type": "markdown",
   "id": "dd3ed153",
   "metadata": {},
   "source": [
    "# Manipulating string Columns"
   ]
  },
  {
   "cell_type": "code",
   "execution_count": 31,
   "id": "32cba125",
   "metadata": {},
   "outputs": [
    {
     "data": {
      "text/plain": [
       "array(['issue_d', 'loan_status', 'term', 'grade', 'sub_grade', 'verification_status', 'url',\n",
       "       'addr_state'], dtype='<U19')"
      ]
     },
     "execution_count": 31,
     "metadata": {},
     "output_type": "execute_result"
    }
   ],
   "source": [
    "header_strings"
   ]
  },
  {
   "cell_type": "code",
   "execution_count": 32,
   "id": "31614142",
   "metadata": {},
   "outputs": [],
   "source": [
    "header_strings[0]= \"issue_date\""
   ]
  },
  {
   "cell_type": "code",
   "execution_count": 33,
   "id": "1165e5f5",
   "metadata": {},
   "outputs": [
    {
     "data": {
      "text/plain": [
       "array([['May-15', 'Current', '36 months', ..., 'Verified',\n",
       "        'https://www.lendingclub.com/browse/loanDetail.action?loan_id=48010226', 'CA'],\n",
       "       ['', 'Current', '36 months', ..., 'Source Verified',\n",
       "        'https://www.lendingclub.com/browse/loanDetail.action?loan_id=57693261', 'NY'],\n",
       "       ['Sep-15', 'Current', '36 months', ..., 'Verified',\n",
       "        'https://www.lendingclub.com/browse/loanDetail.action?loan_id=59432726', 'PA'],\n",
       "       ...,\n",
       "       ['Jun-15', 'Current', '36 months', ..., 'Source Verified',\n",
       "        'https://www.lendingclub.com/browse/loanDetail.action?loan_id=50415990', 'CA'],\n",
       "       ['Apr-15', 'Current', '36 months', ..., 'Source Verified',\n",
       "        'https://www.lendingclub.com/browse/loanDetail.action?loan_id=46154151', 'OH'],\n",
       "       ['Dec-15', 'Current', '36 months', ..., '',\n",
       "        'https://www.lendingclub.com/browse/loanDetail.action?loan_id=66055249', 'IL']],\n",
       "      dtype='<U69')"
      ]
     },
     "execution_count": 33,
     "metadata": {},
     "output_type": "execute_result"
    }
   ],
   "source": [
    "loan_data_strings"
   ]
  },
  {
   "cell_type": "markdown",
   "id": "86c597ab",
   "metadata": {},
   "source": [
    "##issue Date"
   ]
  },
  {
   "cell_type": "code",
   "execution_count": 34,
   "id": "74f82f88",
   "metadata": {},
   "outputs": [
    {
     "data": {
      "text/plain": [
       "array(['', 'Apr-15', 'Aug-15', 'Dec-15', 'Feb-15', 'Jan-15', 'Jul-15', 'Jun-15', 'Mar-15',\n",
       "       'May-15', 'Nov-15', 'Oct-15', 'Sep-15'], dtype='<U69')"
      ]
     },
     "execution_count": 34,
     "metadata": {},
     "output_type": "execute_result"
    }
   ],
   "source": [
    "np.unique(loan_data_strings[:,0])"
   ]
  },
  {
   "cell_type": "markdown",
   "id": "4e365d7b",
   "metadata": {},
   "source": [
    "values are arranged in alphabetical order, rather than chronologically"
   ]
  },
  {
   "cell_type": "code",
   "execution_count": 35,
   "id": "782406d5",
   "metadata": {},
   "outputs": [
    {
     "data": {
      "text/plain": [
       "chararray(['May', '', 'Sep', ..., 'Jun', 'Apr', 'Dec'], dtype='<U69')"
      ]
     },
     "execution_count": 35,
     "metadata": {},
     "output_type": "execute_result"
    }
   ],
   "source": [
    "np.chararray.strip(loan_data_strings[:,0],\"-15\")"
   ]
  },
  {
   "cell_type": "markdown",
   "id": "949334c1",
   "metadata": {},
   "source": [
    "The strip function doesn;t automattically remove these values we need to overwrite as below"
   ]
  },
  {
   "cell_type": "code",
   "execution_count": 36,
   "id": "776ab929",
   "metadata": {},
   "outputs": [],
   "source": [
    "loan_data_strings[:,0] = np.chararray.strip(loan_data_strings[:,0],\"-15\")"
   ]
  },
  {
   "cell_type": "markdown",
   "id": "1a7b72c0",
   "metadata": {},
   "source": [
    "## In Analysis\n",
    "represent month values as integers\n",
    "store the data using less memory (space)\n",
    "a more easy to follow order of the months"
   ]
  },
  {
   "cell_type": "code",
   "execution_count": 37,
   "id": "69be56ef",
   "metadata": {},
   "outputs": [
    {
     "data": {
      "text/plain": [
       "array(['', 'Apr', 'Aug', 'Dec', 'Feb', 'Jan', 'Jul', 'Jun', 'Mar', 'May', 'Nov', 'Oct', 'Sep'],\n",
       "      dtype='<U69')"
      ]
     },
     "execution_count": 37,
     "metadata": {},
     "output_type": "execute_result"
    }
   ],
   "source": [
    "np.unique(loan_data_strings[:,0])"
   ]
  },
  {
   "cell_type": "code",
   "execution_count": 38,
   "id": "cc41f0ad",
   "metadata": {},
   "outputs": [],
   "source": [
    "months = np.array([' ','Jan','Feb','Mar','Apr','May','Jun','Jul','Aug','Sep','Oct','Nov','Dec'])\n"
   ]
  },
  {
   "cell_type": "code",
   "execution_count": 39,
   "id": "5044921f",
   "metadata": {},
   "outputs": [],
   "source": [
    "for i in range(13):\n",
    "    loan_data_strings[:,0] = np.where(loan_data_strings[:,0]== months[i],\n",
    "                                     i,\n",
    "                                     loan_data_strings[:,0])"
   ]
  },
  {
   "cell_type": "code",
   "execution_count": 40,
   "id": "d1b649e0",
   "metadata": {},
   "outputs": [
    {
     "data": {
      "text/plain": [
       "array(['', '1', '10', '11', '12', '2', '3', '4', '5', '6', '7', '8', '9'], dtype='<U69')"
      ]
     },
     "execution_count": 40,
     "metadata": {},
     "output_type": "execute_result"
    }
   ],
   "source": [
    "np.unique(loan_data_strings[:,0])"
   ]
  },
  {
   "cell_type": "markdown",
   "id": "7ca6f081",
   "metadata": {},
   "source": [
    "Loan Status"
   ]
  },
  {
   "cell_type": "code",
   "execution_count": 41,
   "id": "2fedfd8a",
   "metadata": {},
   "outputs": [
    {
     "data": {
      "text/plain": [
       "array(['issue_date', 'loan_status', 'term', 'grade', 'sub_grade', 'verification_status', 'url',\n",
       "       'addr_state'], dtype='<U19')"
      ]
     },
     "execution_count": 41,
     "metadata": {},
     "output_type": "execute_result"
    }
   ],
   "source": [
    "header_strings"
   ]
  },
  {
   "cell_type": "code",
   "execution_count": 42,
   "id": "493eddd7",
   "metadata": {},
   "outputs": [
    {
     "data": {
      "text/plain": [
       "array(['Current', 'Current', 'Current', ..., 'Current', 'Current', 'Current'], dtype='<U69')"
      ]
     },
     "execution_count": 42,
     "metadata": {},
     "output_type": "execute_result"
    }
   ],
   "source": [
    "loan_data_strings[:,1]"
   ]
  },
  {
   "cell_type": "code",
   "execution_count": 43,
   "id": "134ecfc5",
   "metadata": {},
   "outputs": [
    {
     "data": {
      "text/plain": [
       "array(['', 'Charged Off', 'Current', 'Default', 'Fully Paid', 'In Grace Period', 'Issued',\n",
       "       'Late (16-30 days)', 'Late (31-120 days)'], dtype='<U69')"
      ]
     },
     "execution_count": 43,
     "metadata": {},
     "output_type": "execute_result"
    }
   ],
   "source": [
    "np.unique(loan_data_strings[:,1])"
   ]
  },
  {
   "cell_type": "code",
   "execution_count": 44,
   "id": "e32c2449",
   "metadata": {},
   "outputs": [
    {
     "data": {
      "text/plain": [
       "9"
      ]
     },
     "execution_count": 44,
     "metadata": {},
     "output_type": "execute_result"
    }
   ],
   "source": [
    "np.unique(loan_data_strings[:,1]).size"
   ]
  },
  {
   "cell_type": "markdown",
   "id": "a29d2a3b",
   "metadata": {},
   "source": [
    "We can use np.where()to assign a different number to each one. However, Regression only care if the candidate is in a stable financial condition\n",
    "we need to split all possible values into either group(\"good\" vs\"bad\")1, 0 for good nd bad"
   ]
  },
  {
   "cell_type": "code",
   "execution_count": 45,
   "id": "00d16c66",
   "metadata": {},
   "outputs": [],
   "source": [
    "status_bad = np.array([' ','charged off','Default','Late (31-120 days)'])"
   ]
  },
  {
   "cell_type": "code",
   "execution_count": 46,
   "id": "f5d2e266",
   "metadata": {},
   "outputs": [],
   "source": [
    "loan_data_strings[:,1] = np.where(np.isin(loan_data_strings[:,1],status_bad),0,1)"
   ]
  },
  {
   "cell_type": "code",
   "execution_count": 47,
   "id": "78f64d16",
   "metadata": {},
   "outputs": [
    {
     "data": {
      "text/plain": [
       "array(['0', '1'], dtype='<U69')"
      ]
     },
     "execution_count": 47,
     "metadata": {},
     "output_type": "execute_result"
    }
   ],
   "source": [
    "np.unique(loan_data_strings[:,1])"
   ]
  },
  {
   "cell_type": "markdown",
   "id": "29587c84",
   "metadata": {},
   "source": [
    "# Term"
   ]
  },
  {
   "cell_type": "code",
   "execution_count": 48,
   "id": "eba7b3e1",
   "metadata": {},
   "outputs": [
    {
     "data": {
      "text/plain": [
       "array(['issue_date', 'loan_status', 'term', 'grade', 'sub_grade', 'verification_status', 'url',\n",
       "       'addr_state'], dtype='<U19')"
      ]
     },
     "execution_count": 48,
     "metadata": {},
     "output_type": "execute_result"
    }
   ],
   "source": [
    "header_strings"
   ]
  },
  {
   "cell_type": "code",
   "execution_count": 49,
   "id": "c2ff32f5",
   "metadata": {},
   "outputs": [
    {
     "data": {
      "text/plain": [
       "array(['', '36 months', '60 months'], dtype='<U69')"
      ]
     },
     "execution_count": 49,
     "metadata": {},
     "output_type": "execute_result"
    }
   ],
   "source": [
    "np.unique(loan_data_strings[:,2])"
   ]
  },
  {
   "cell_type": "code",
   "execution_count": 50,
   "id": "d93523e7",
   "metadata": {},
   "outputs": [
    {
     "data": {
      "text/plain": [
       "array(['36', '36', '36', ..., '36', '36', '36'], dtype='<U69')"
      ]
     },
     "execution_count": 50,
     "metadata": {},
     "output_type": "execute_result"
    }
   ],
   "source": [
    "loan_data_strings[:,2]= np.chararray.strip(loan_data_strings[:,2], \" months\")\n",
    "loan_data_strings[:,2]"
   ]
  },
  {
   "cell_type": "markdown",
   "id": "a137cbcf",
   "metadata": {},
   "source": [
    "when we have missing data in CRM , we assume the worst  ie, 60 months(5 years) is the worst case here. so replace the missing value with 60"
   ]
  },
  {
   "cell_type": "code",
   "execution_count": 51,
   "id": "a5db7df8",
   "metadata": {},
   "outputs": [],
   "source": [
    "loan_data_strings[:,2] = np.where(loan_data_strings[:,2] == '',\n",
    "                                 '60',loan_data_strings[:,2])"
   ]
  },
  {
   "cell_type": "code",
   "execution_count": 52,
   "id": "14bf0d4f",
   "metadata": {},
   "outputs": [
    {
     "data": {
      "text/plain": [
       "array(['36', '60'], dtype='<U69')"
      ]
     },
     "execution_count": 52,
     "metadata": {},
     "output_type": "execute_result"
    }
   ],
   "source": [
    "np.unique(loan_data_strings[:,2])"
   ]
  },
  {
   "cell_type": "markdown",
   "id": "3f7840ee",
   "metadata": {},
   "source": [
    "# Grade and Subgrade"
   ]
  },
  {
   "cell_type": "code",
   "execution_count": 53,
   "id": "317293bd",
   "metadata": {},
   "outputs": [
    {
     "data": {
      "text/plain": [
       "array(['issue_date', 'loan_status', 'term', 'grade', 'sub_grade', 'verification_status', 'url',\n",
       "       'addr_state'], dtype='<U19')"
      ]
     },
     "execution_count": 53,
     "metadata": {},
     "output_type": "execute_result"
    }
   ],
   "source": [
    "header_strings"
   ]
  },
  {
   "cell_type": "code",
   "execution_count": 54,
   "id": "6b91cc3f",
   "metadata": {},
   "outputs": [
    {
     "data": {
      "text/plain": [
       "array(['', 'A', 'B', 'C', 'D', 'E', 'F', 'G'], dtype='<U69')"
      ]
     },
     "execution_count": 54,
     "metadata": {},
     "output_type": "execute_result"
    }
   ],
   "source": [
    "np.unique(loan_data_strings[:,3])"
   ]
  },
  {
   "cell_type": "code",
   "execution_count": 55,
   "id": "0c68bd6d",
   "metadata": {},
   "outputs": [
    {
     "data": {
      "text/plain": [
       "array(['', 'A1', 'A2', 'A3', 'A4', 'A5', 'B1', 'B2', 'B3', 'B4', 'B5', 'C1', 'C2', 'C3', 'C4',\n",
       "       'C5', 'D1', 'D2', 'D3', 'D4', 'D5', 'E1', 'E2', 'E3', 'E4', 'E5', 'F1', 'F2', 'F3', 'F4',\n",
       "       'F5', 'G1', 'G2', 'G3', 'G4', 'G5'], dtype='<U69')"
      ]
     },
     "execution_count": 55,
     "metadata": {},
     "output_type": "execute_result"
    }
   ],
   "source": [
    "np.unique(loan_data_strings[:,4])"
   ]
  },
  {
   "cell_type": "markdown",
   "id": "e3cff37d",
   "metadata": {},
   "source": [
    "Filling Sub GrADE"
   ]
  },
  {
   "cell_type": "code",
   "execution_count": 56,
   "id": "2d0ef370",
   "metadata": {},
   "outputs": [
    {
     "ename": "IndexError",
     "evalue": "too many indices for array: array is 1-dimensional, but 2 were indexed",
     "output_type": "error",
     "traceback": [
      "\u001b[1;31m---------------------------------------------------------------------------\u001b[0m",
      "\u001b[1;31mIndexError\u001b[0m                                Traceback (most recent call last)",
      "Cell \u001b[1;32mIn[56], line 1\u001b[0m\n\u001b[1;32m----> 1\u001b[0m \u001b[38;5;28;01mfor\u001b[39;00m i \u001b[38;5;129;01min\u001b[39;00m np\u001b[38;5;241m.\u001b[39munique(loan_data_strings[:,\u001b[38;5;241m3\u001b[39m])[\u001b[38;5;241m1\u001b[39m,:]:\n\u001b[0;32m      2\u001b[0m     loan_data_strings[:,\u001b[38;5;241m4\u001b[39m]\u001b[38;5;241m=\u001b[39m np\u001b[38;5;241m.\u001b[39mwhere((loan_data_strings[:,\u001b[38;5;241m4\u001b[39m] \u001b[38;5;241m==\u001b[39m \u001b[38;5;124m'\u001b[39m\u001b[38;5;124m'\u001b[39m) \u001b[38;5;241m&\u001b[39m (loan_data_strings[:,\u001b[38;5;241m3\u001b[39m] \u001b[38;5;241m==\u001b[39m i),\n\u001b[0;32m      3\u001b[0m                                     i \u001b[38;5;241m+\u001b[39m \u001b[38;5;124m'\u001b[39m\u001b[38;5;124m5\u001b[39m\u001b[38;5;124m'\u001b[39m,\n\u001b[0;32m      4\u001b[0m                                     loan_data_strings[:,\u001b[38;5;241m4\u001b[39m])\n",
      "\u001b[1;31mIndexError\u001b[0m: too many indices for array: array is 1-dimensional, but 2 were indexed"
     ]
    }
   ],
   "source": [
    "for i in np.unique(loan_data_strings[:,3])[1,:]:\n",
    "    loan_data_strings[:,4]= np.where((loan_data_strings[:,4] == '') & (loan_data_strings[:,3] == i),\n",
    "                                    i + '5',\n",
    "                                    loan_data_strings[:,4])"
   ]
  },
  {
   "cell_type": "code",
   "execution_count": 57,
   "id": "243d7c07",
   "metadata": {},
   "outputs": [
    {
     "data": {
      "text/plain": [
       "(array(['', 'A1', 'A2', 'A3', 'A4', 'A5', 'B1', 'B2', 'B3', 'B4', 'B5', 'C1', 'C2', 'C3', 'C4',\n",
       "        'C5', 'D1', 'D2', 'D3', 'D4', 'D5', 'E1', 'E2', 'E3', 'E4', 'E5', 'F1', 'F2', 'F3', 'F4',\n",
       "        'F5', 'G1', 'G2', 'G3', 'G4', 'G5'], dtype='<U69'),\n",
       " array([514, 285, 278, 239, 323, 502, 509, 517, 530, 553, 494, 629, 567, 586, 564, 423, 391, 267,\n",
       "        250, 255, 223, 235, 162, 171, 139, 114,  94,  52,  34,  43,  16,  19,  10,   3,   7,   2],\n",
       "       dtype=int64))"
      ]
     },
     "execution_count": 57,
     "metadata": {},
     "output_type": "execute_result"
    }
   ],
   "source": [
    "np.unique(loan_data_strings[:,4],return_counts = True)"
   ]
  },
  {
   "cell_type": "code",
   "execution_count": 58,
   "id": "7b738e30",
   "metadata": {},
   "outputs": [],
   "source": [
    " loan_data_strings[:,4]= np.where((loan_data_strings[:,4] == ''),\n",
    "                                    'H1',\n",
    "                                    loan_data_strings[:,4])"
   ]
  },
  {
   "cell_type": "code",
   "execution_count": 59,
   "id": "fd9e79d9",
   "metadata": {},
   "outputs": [
    {
     "data": {
      "text/plain": [
       "array(['A1', 'A2', 'A3', 'A4', 'A5', 'B1', 'B2', 'B3', 'B4', 'B5', 'C1', 'C2', 'C3', 'C4', 'C5',\n",
       "       'D1', 'D2', 'D3', 'D4', 'D5', 'E1', 'E2', 'E3', 'E4', 'E5', 'F1', 'F2', 'F3', 'F4', 'F5',\n",
       "       'G1', 'G2', 'G3', 'G4', 'G5', 'H1'], dtype='<U69')"
      ]
     },
     "execution_count": 59,
     "metadata": {},
     "output_type": "execute_result"
    }
   ],
   "source": [
    "np.unique(loan_data_strings[:,4])"
   ]
  },
  {
   "cell_type": "markdown",
   "id": "9f7f99ca",
   "metadata": {},
   "source": [
    "we no longer have any misssing value as it is replaced by H1 now we can remove the grade coloumn "
   ]
  },
  {
   "cell_type": "markdown",
   "id": "2bcd2693",
   "metadata": {},
   "source": [
    "# Removing Grade"
   ]
  },
  {
   "cell_type": "code",
   "execution_count": 60,
   "id": "04a46842",
   "metadata": {},
   "outputs": [],
   "source": [
    "loan_data_strings = np.delete(loan_data_strings, 3, axis= 1)"
   ]
  },
  {
   "cell_type": "code",
   "execution_count": 61,
   "id": "65e76bab",
   "metadata": {},
   "outputs": [
    {
     "data": {
      "text/plain": [
       "array(['C3', 'A5', 'B5', ..., 'A5', 'D2', 'A4'], dtype='<U69')"
      ]
     },
     "execution_count": 61,
     "metadata": {},
     "output_type": "execute_result"
    }
   ],
   "source": [
    "loan_data_strings[:,3]\n"
   ]
  },
  {
   "cell_type": "code",
   "execution_count": 62,
   "id": "5aff2f1a",
   "metadata": {},
   "outputs": [],
   "source": [
    "header_strings = np.delete(header_strings, 3)"
   ]
  },
  {
   "cell_type": "code",
   "execution_count": 63,
   "id": "664705ef",
   "metadata": {},
   "outputs": [
    {
     "data": {
      "text/plain": [
       "'sub_grade'"
      ]
     },
     "execution_count": 63,
     "metadata": {},
     "output_type": "execute_result"
    }
   ],
   "source": [
    "header_strings[3]"
   ]
  },
  {
   "cell_type": "markdown",
   "id": "1ccf8bb5",
   "metadata": {},
   "source": [
    "# Converting sub Grades"
   ]
  },
  {
   "cell_type": "code",
   "execution_count": 64,
   "id": "7dd783e9",
   "metadata": {},
   "outputs": [
    {
     "data": {
      "text/plain": [
       "array(['A1', 'A2', 'A3', 'A4', 'A5', 'B1', 'B2', 'B3', 'B4', 'B5', 'C1', 'C2', 'C3', 'C4', 'C5',\n",
       "       'D1', 'D2', 'D3', 'D4', 'D5', 'E1', 'E2', 'E3', 'E4', 'E5', 'F1', 'F2', 'F3', 'F4', 'F5',\n",
       "       'G1', 'G2', 'G3', 'G4', 'G5', 'H1'], dtype='<U69')"
      ]
     },
     "execution_count": 64,
     "metadata": {},
     "output_type": "execute_result"
    }
   ],
   "source": [
    "np.unique(loan_data_strings[:,3])"
   ]
  },
  {
   "cell_type": "code",
   "execution_count": 65,
   "id": "99580fab",
   "metadata": {},
   "outputs": [],
   "source": [
    "keys = list(np.unique(loan_data_strings[:,3]))\n",
    "values = list(range(1, np.unique(loan_data_strings[:,3]).shape[0] +1))\n",
    "dict_sub_grade = dict(zip(keys,values))"
   ]
  },
  {
   "cell_type": "code",
   "execution_count": 66,
   "id": "c518afea",
   "metadata": {},
   "outputs": [
    {
     "data": {
      "text/plain": [
       "{'A1': 1,\n",
       " 'A2': 2,\n",
       " 'A3': 3,\n",
       " 'A4': 4,\n",
       " 'A5': 5,\n",
       " 'B1': 6,\n",
       " 'B2': 7,\n",
       " 'B3': 8,\n",
       " 'B4': 9,\n",
       " 'B5': 10,\n",
       " 'C1': 11,\n",
       " 'C2': 12,\n",
       " 'C3': 13,\n",
       " 'C4': 14,\n",
       " 'C5': 15,\n",
       " 'D1': 16,\n",
       " 'D2': 17,\n",
       " 'D3': 18,\n",
       " 'D4': 19,\n",
       " 'D5': 20,\n",
       " 'E1': 21,\n",
       " 'E2': 22,\n",
       " 'E3': 23,\n",
       " 'E4': 24,\n",
       " 'E5': 25,\n",
       " 'F1': 26,\n",
       " 'F2': 27,\n",
       " 'F3': 28,\n",
       " 'F4': 29,\n",
       " 'F5': 30,\n",
       " 'G1': 31,\n",
       " 'G2': 32,\n",
       " 'G3': 33,\n",
       " 'G4': 34,\n",
       " 'G5': 35,\n",
       " 'H1': 36}"
      ]
     },
     "execution_count": 66,
     "metadata": {},
     "output_type": "execute_result"
    }
   ],
   "source": [
    "dict_sub_grade"
   ]
  },
  {
   "cell_type": "markdown",
   "id": "20d184ab",
   "metadata": {},
   "source": [
    "Let's break down the code step by step to understand its meaning:\n",
    "\n",
    "np.unique(loan_data_strings[:, 3]): This part of the code is using NumPy (imported as np) to extract the unique elements from the 3rd column (index 3) of the loan_data_strings array. The loan_data_strings[:, 3] notation means that we are taking all rows and only the 3rd column of the loan_data_strings array.\n",
    "\n",
    "np.unique(loan_data_strings[:, 3]).shape[0]: After finding the unique elements in the 3rd column, shape[0] is used to get the number of unique elements. This will return an integer value representing the number of unique elements in the 3rd column of the loan_data_strings array.\n",
    "\n",
    "range(1, np.unique(loan_data_strings[:, 3]).shape[0] + 1): The range() function is used to create a sequence of numbers starting from 1 and ending at np.unique(loan_data_strings[:, 3]).shape[0] + 1. The + 1 is used because the range() function generates numbers up to, but not including, the stop value."
   ]
  },
  {
   "cell_type": "code",
   "execution_count": 67,
   "id": "4f549c9e",
   "metadata": {},
   "outputs": [],
   "source": [
    "for i in np.unique(loan_data_strings[:,3]):\n",
    "    loan_data_strings[:,3] = np.where(loan_data_strings[:,3] ==i,\n",
    "                                     dict_sub_grade[i],\n",
    "                                     loan_data_strings[:,3])"
   ]
  },
  {
   "cell_type": "code",
   "execution_count": 68,
   "id": "df5af8ae",
   "metadata": {},
   "outputs": [
    {
     "data": {
      "text/plain": [
       "array(['1', '10', '11', '12', '13', '14', '15', '16', '17', '18', '19', '2', '20', '21', '22',\n",
       "       '23', '24', '25', '26', '27', '28', '29', '3', '30', '31', '32', '33', '34', '35', '36',\n",
       "       '4', '5', '6', '7', '8', '9'], dtype='<U69')"
      ]
     },
     "execution_count": 68,
     "metadata": {},
     "output_type": "execute_result"
    }
   ],
   "source": [
    "np.unique(loan_data_strings[:,3])"
   ]
  },
  {
   "cell_type": "markdown",
   "id": "d329e2bb",
   "metadata": {},
   "source": [
    "# Verification status"
   ]
  },
  {
   "cell_type": "code",
   "execution_count": 69,
   "id": "a9c52c00",
   "metadata": {},
   "outputs": [
    {
     "data": {
      "text/plain": [
       "array(['issue_date', 'loan_status', 'term', 'sub_grade', 'verification_status', 'url',\n",
       "       'addr_state'], dtype='<U19')"
      ]
     },
     "execution_count": 69,
     "metadata": {},
     "output_type": "execute_result"
    }
   ],
   "source": [
    "header_strings"
   ]
  },
  {
   "cell_type": "code",
   "execution_count": 70,
   "id": "a7333a5e",
   "metadata": {},
   "outputs": [
    {
     "data": {
      "text/plain": [
       "array(['', 'Not Verified', 'Source Verified', 'Verified'], dtype='<U69')"
      ]
     },
     "execution_count": 70,
     "metadata": {},
     "output_type": "execute_result"
    }
   ],
   "source": [
    "np.unique(loan_data_strings[:,4])"
   ]
  },
  {
   "cell_type": "markdown",
   "id": "50108108",
   "metadata": {},
   "source": [
    "'Source Verified' is the loan application which include investor backing"
   ]
  },
  {
   "cell_type": "code",
   "execution_count": 71,
   "id": "3d629a7c",
   "metadata": {},
   "outputs": [],
   "source": [
    "loan_data_strings[:,4] = np.where((loan_data_strings[:,4] == '') | (loan_data_strings[:,4] == 'Not Verified'),0,1)"
   ]
  },
  {
   "cell_type": "code",
   "execution_count": 72,
   "id": "ecf848da",
   "metadata": {},
   "outputs": [
    {
     "data": {
      "text/plain": [
       "array(['0', '1'], dtype='<U69')"
      ]
     },
     "execution_count": 72,
     "metadata": {},
     "output_type": "execute_result"
    }
   ],
   "source": [
    "np.unique(loan_data_strings[:,4])"
   ]
  },
  {
   "cell_type": "markdown",
   "id": "b7015ea9",
   "metadata": {},
   "source": [
    "np.where((loan_data_strings[:, 4] == '') | (loan_data_strings[:, 4] == 'Not Verified'), 0, 1): The np.where() function is used with the boolean array from step 3 as the condition. It checks each element of the array and replaces the elements that are True with 0 and the elements that are False with 1."
   ]
  },
  {
   "cell_type": "markdown",
   "id": "a832c82a",
   "metadata": {},
   "source": [
    "# URL"
   ]
  },
  {
   "cell_type": "code",
   "execution_count": 73,
   "id": "08debcbd",
   "metadata": {},
   "outputs": [
    {
     "data": {
      "text/plain": [
       "array(['https://www.lendingclub.com/browse/loanDetail.action?loan_id=48010226',\n",
       "       'https://www.lendingclub.com/browse/loanDetail.action?loan_id=57693261',\n",
       "       'https://www.lendingclub.com/browse/loanDetail.action?loan_id=59432726', ...,\n",
       "       'https://www.lendingclub.com/browse/loanDetail.action?loan_id=50415990',\n",
       "       'https://www.lendingclub.com/browse/loanDetail.action?loan_id=46154151',\n",
       "       'https://www.lendingclub.com/browse/loanDetail.action?loan_id=66055249'], dtype='<U69')"
      ]
     },
     "execution_count": 73,
     "metadata": {},
     "output_type": "execute_result"
    }
   ],
   "source": [
    "loan_data_strings[:,5]"
   ]
  },
  {
   "cell_type": "code",
   "execution_count": 74,
   "id": "2510fee2",
   "metadata": {},
   "outputs": [
    {
     "data": {
      "text/plain": [
       "chararray(['48010226', '57693261', '59432726', ..., '50415990', '46154151', '66055249'],\n",
       "          dtype='<U69')"
      ]
     },
     "execution_count": 74,
     "metadata": {},
     "output_type": "execute_result"
    }
   ],
   "source": [
    "np.chararray.strip(loan_data_strings[:,5],\"https://www.lendingclub.com/browse/loanDetail.action?loan_id=\")"
   ]
  },
  {
   "cell_type": "code",
   "execution_count": 75,
   "id": "18e59895",
   "metadata": {},
   "outputs": [],
   "source": [
    "loan_data_strings[:,5] =np.chararray.strip(loan_data_strings[:,5],\"https://www.lendingclub.com/browse/loanDetail.action?loan_id=\")"
   ]
  },
  {
   "cell_type": "code",
   "execution_count": 76,
   "id": "9d7778cb",
   "metadata": {},
   "outputs": [
    {
     "data": {
      "text/plain": [
       "array(['id', 'issue_d', 'loan_amnt', 'loan_status', 'funded_amnt', 'term', 'int_rate',\n",
       "       'installment', 'grade', 'sub_grade', 'verification_status', 'url', 'addr_state',\n",
       "       'total_pymnt'], dtype='<U19')"
      ]
     },
     "execution_count": 76,
     "metadata": {},
     "output_type": "execute_result"
    }
   ],
   "source": [
    "header_full\n"
   ]
  },
  {
   "cell_type": "code",
   "execution_count": 77,
   "id": "30ed8d8a",
   "metadata": {},
   "outputs": [
    {
     "data": {
      "text/plain": [
       "array([48010226, 57693261, 59432726, ..., 50415990, 46154151, 66055249])"
      ]
     },
     "execution_count": 77,
     "metadata": {},
     "output_type": "execute_result"
    }
   ],
   "source": [
    "loan_data_numeric[:,0].astype(dtype = np.int32)"
   ]
  },
  {
   "cell_type": "code",
   "execution_count": 78,
   "id": "ee910645",
   "metadata": {},
   "outputs": [
    {
     "data": {
      "text/plain": [
       "array([48010226, 57693261, 59432726, ..., 50415990, 46154151, 66055249])"
      ]
     },
     "execution_count": 78,
     "metadata": {},
     "output_type": "execute_result"
    }
   ],
   "source": [
    "loan_data_strings[:,5].astype(dtype = np.int32)"
   ]
  },
  {
   "cell_type": "code",
   "execution_count": 79,
   "id": "965f11d8",
   "metadata": {},
   "outputs": [
    {
     "data": {
      "text/plain": [
       "True"
      ]
     },
     "execution_count": 79,
     "metadata": {},
     "output_type": "execute_result"
    }
   ],
   "source": [
    "np.array_equal(loan_data_numeric[:,0].astype(dtype = np.int32),loan_data_strings[:,5].astype(dtype = np.int32))"
   ]
  },
  {
   "cell_type": "markdown",
   "id": "bdbca3db",
   "metadata": {},
   "source": [
    "The URL coloumn does'nt hold any addditional information we can't already extract from ID coloumn"
   ]
  },
  {
   "cell_type": "code",
   "execution_count": 80,
   "id": "270d15e6",
   "metadata": {},
   "outputs": [],
   "source": [
    "loan_data_strings = np.delete(loan_data_strings, 5, axis = 1)\n",
    "header_strings = np.delete(header_strings, 5)"
   ]
  },
  {
   "cell_type": "code",
   "execution_count": 81,
   "id": "0e1099ea",
   "metadata": {},
   "outputs": [
    {
     "data": {
      "text/plain": [
       "array(['CA', 'NY', 'PA', ..., 'CA', 'OH', 'IL'], dtype='<U69')"
      ]
     },
     "execution_count": 81,
     "metadata": {},
     "output_type": "execute_result"
    }
   ],
   "source": [
    "loan_data_strings[:,5]"
   ]
  },
  {
   "cell_type": "code",
   "execution_count": 82,
   "id": "a5e177ae",
   "metadata": {},
   "outputs": [
    {
     "data": {
      "text/plain": [
       "array(['issue_date', 'loan_status', 'term', 'sub_grade', 'verification_status', 'addr_state'],\n",
       "      dtype='<U19')"
      ]
     },
     "execution_count": 82,
     "metadata": {},
     "output_type": "execute_result"
    }
   ],
   "source": [
    "header_strings"
   ]
  },
  {
   "cell_type": "code",
   "execution_count": 83,
   "id": "22bdea25",
   "metadata": {},
   "outputs": [
    {
     "data": {
      "text/plain": [
       "array([48010226., 57693261., 59432726., ..., 50415990., 46154151., 66055249.])"
      ]
     },
     "execution_count": 83,
     "metadata": {},
     "output_type": "execute_result"
    }
   ],
   "source": [
    "loan_data_numeric[:,0]"
   ]
  },
  {
   "cell_type": "code",
   "execution_count": 84,
   "id": "2bbe29be",
   "metadata": {},
   "outputs": [
    {
     "data": {
      "text/plain": [
       "array(['id', 'loan_amnt', 'funded_amnt', 'int_rate', 'installment', 'total_pymnt'], dtype='<U19')"
      ]
     },
     "execution_count": 84,
     "metadata": {},
     "output_type": "execute_result"
    }
   ],
   "source": [
    "header_numeric"
   ]
  },
  {
   "cell_type": "markdown",
   "id": "fe20a8a7",
   "metadata": {},
   "source": [
    "# State Address"
   ]
  },
  {
   "cell_type": "code",
   "execution_count": 85,
   "id": "6cf8fb4f",
   "metadata": {},
   "outputs": [
    {
     "data": {
      "text/plain": [
       "array(['issue_date', 'loan_status', 'term', 'sub_grade', 'verification_status', 'addr_state'],\n",
       "      dtype='<U19')"
      ]
     },
     "execution_count": 85,
     "metadata": {},
     "output_type": "execute_result"
    }
   ],
   "source": [
    "header_strings"
   ]
  },
  {
   "cell_type": "code",
   "execution_count": 86,
   "id": "c66da72d",
   "metadata": {},
   "outputs": [],
   "source": [
    "header_strings[5] = 'state_address'"
   ]
  },
  {
   "cell_type": "code",
   "execution_count": 87,
   "id": "ae84972d",
   "metadata": {},
   "outputs": [
    {
     "data": {
      "text/plain": [
       "50"
      ]
     },
     "execution_count": 87,
     "metadata": {},
     "output_type": "execute_result"
    }
   ],
   "source": [
    "np.unique(loan_data_strings[:,5]).size"
   ]
  },
  {
   "cell_type": "markdown",
   "id": "cd7635fe",
   "metadata": {},
   "source": [
    "we suspect Iowa was purposfully left as a baseline benchmark\n",
    "When doing research or analysis on a variable with many categories. it is normal to pick one as a benchmark and include dummy variable for the rest."
   ]
  },
  {
   "cell_type": "code",
   "execution_count": 88,
   "id": "da5115d2",
   "metadata": {},
   "outputs": [
    {
     "data": {
      "text/plain": [
       "(array(['CA', 'NY', 'TX', 'FL', '', 'IL', 'NJ', 'GA', 'PA', 'OH', 'MI', 'NC', 'VA', 'MD', 'AZ',\n",
       "        'WA', 'MA', 'CO', 'MO', 'MN', 'IN', 'WI', 'CT', 'TN', 'NV', 'AL', 'LA', 'OR', 'SC', 'KY',\n",
       "        'KS', 'OK', 'UT', 'AR', 'MS', 'NH', 'NM', 'WV', 'HI', 'RI', 'MT', 'DE', 'DC', 'WY', 'AK',\n",
       "        'NE', 'SD', 'VT', 'ND', 'ME'], dtype='<U69'),\n",
       " array([1336,  777,  758,  690,  500,  389,  341,  321,  320,  312,  267,  261,  242,  222,  220,\n",
       "         216,  210,  201,  160,  156,  152,  148,  143,  143,  130,  119,  116,  108,  107,   84,\n",
       "          84,   83,   74,   74,   61,   58,   57,   49,   44,   40,   28,   27,   27,   27,   26,\n",
       "          25,   24,   17,   16,   10], dtype=int64))"
      ]
     },
     "execution_count": 88,
     "metadata": {},
     "output_type": "execute_result"
    }
   ],
   "source": [
    "states_names, states_count = np.unique(loan_data_strings[:,5], return_counts = True)\n",
    "states_count_sorted = np.argsort(-states_count)\n",
    "states_names[states_count_sorted],states_count[states_count_sorted]"
   ]
  },
  {
   "cell_type": "markdown",
   "id": "0d3d7b16",
   "metadata": {},
   "source": [
    "states_names, states_count = np.unique(loan_data_strings[:,5], return_counts = True): This line extracts the unique elements from the 5th column of the loan_data_strings array and counts their occurrences. The resulting states_names array will contain the unique state names, and the states_count array will contain the corresponding counts.\n",
    "\n",
    "states_count_sorted = np.argsort(-states_count): The -states_count part negates the values in the states_count array to sort them in descending order. The np.argsort() function then returns the indices that would sort the array in ascending order, but since the values were negated, it effectively sorts the indices in descending order based on the counts. The resulting states_count_sorted array will have indices indicating the order in which the state counts appear in descending order.\n",
    "\n",
    "states_names[states_count_sorted], states_count[states_count_sorted]: This line uses fancy indexing to reorder the states_names and states_count arrays based on the states_count_sorted indices. By doing so, the state names and their counts will be presented in descending order, where the state with the highest count appears first, followed by the next highest count, and so on.\n",
    "\n",
    "So, the output of this code will be two arrays: states_names and states_count, both sorted in descending order based on the counts of occurrences of each state in the 5th column of the loan_data_strings array. The state with the highest count will be the first element in the sorted arrays."
   ]
  },
  {
   "cell_type": "code",
   "execution_count": 89,
   "id": "99842162",
   "metadata": {},
   "outputs": [],
   "source": [
    "loan_data_strings[:,5] = np.where(loan_data_strings[:,5]== '',\n",
    "                                 0,\n",
    "                                 loan_data_strings[:,5])"
   ]
  },
  {
   "cell_type": "markdown",
   "id": "c974db66",
   "metadata": {},
   "source": [
    "np.where(loan_data_strings[:, 5] == '', 0, loan_data_strings[:, 5]): This is the np.where() function used with three arguments:\n",
    "\n",
    "The first argument loan_data_strings[:, 5] == '' creates a boolean array that is True where the elements in the 5th column are empty strings ('') and False otherwise.\n",
    "\n",
    "The second argument 0 is the value that replaces the empty strings. So, wherever the condition loan_data_strings[:, 5] == '' is True, the corresponding element in the 5th column will be replaced with 0.\n",
    "\n",
    "The third argument loan_data_strings[:, 5] is the value used when the condition loan_data_strings[:, 5] == '' is False. In other words, for the elements in the 5th column that are not empty strings, their original values will be kept unchanged.\n",
    "\n",
    "Overall, this code is updating the 5th column of the loan_data_strings array in place. It converts any empty strings in that column to the integer value 0, and all other non-empty strings (if any) remain unchanged. This might be done to handle missing or empty data in the dataset, setting the missing state names to 0, possibly as a placeholder or a specific indication for missing data.\n",
    "\n"
   ]
  },
  {
   "cell_type": "markdown",
   "id": "e610dac7",
   "metadata": {},
   "source": [
    "_If we assign a unique value to each state,thus allow outliers to have a big influence on the coefficients_"
   ]
  },
  {
   "cell_type": "markdown",
   "id": "1c751ff4",
   "metadata": {},
   "source": [
    "** We have very little data for too many states to examine each one individually.**"
   ]
  },
  {
   "cell_type": "markdown",
   "id": "1b00b317",
   "metadata": {},
   "source": [
    "_The more categories a variable has, the fewer data will be available for eaacah one._"
   ]
  },
  {
   "cell_type": "code",
   "execution_count": 90,
   "id": "44da8fc1",
   "metadata": {},
   "outputs": [],
   "source": [
    "states_west = np.array(['WA','OR','CA','NV','ID','MT','WY','UT','CO','AZ','NM','HI','AK'])\n",
    "states_south = np.array(['TX','OK','AR','LA','MS','AL','TN','KY','FL','GA','SC','NC','VA','WV','MD','DE','DC'])\n",
    "states_midwest = np.array(['ND','SD','NE','KS','MN','IA','MO','WI','IL','IN','MI','OH'])\n",
    "states_east = np.array(['PA','NY','NJ','CT','MA','VT','NH','ME','RI'])"
   ]
  },
  {
   "cell_type": "code",
   "execution_count": 91,
   "id": "052e2c9a",
   "metadata": {},
   "outputs": [],
   "source": [
    "loan_data_strings[:,5] = np.where(np.isin(loan_data_strings[:,5],states_west),1, loan_data_strings[:,5])\n",
    "loan_data_strings[:,5] = np.where(np.isin(loan_data_strings[:,5],states_south),2, loan_data_strings[:,5])\n",
    "loan_data_strings[:,5] = np.where(np.isin(loan_data_strings[:,5],states_midwest),3, loan_data_strings[:,5])\n",
    "loan_data_strings[:,5] = np.where(np.isin(loan_data_strings[:,5],states_east),4, loan_data_strings[:,5])"
   ]
  },
  {
   "cell_type": "code",
   "execution_count": 92,
   "id": "9889fb31",
   "metadata": {},
   "outputs": [
    {
     "data": {
      "text/plain": [
       "array(['0', '1', '2', '3', '4'], dtype='<U69')"
      ]
     },
     "execution_count": 92,
     "metadata": {},
     "output_type": "execute_result"
    }
   ],
   "source": [
    "np.unique(loan_data_strings[:,5])"
   ]
  },
  {
   "cell_type": "markdown",
   "id": "1020060a",
   "metadata": {},
   "source": [
    "_We have converted whatever string data we had into numeric values stored as text_"
   ]
  },
  {
   "cell_type": "markdown",
   "id": "3b932ad6",
   "metadata": {},
   "source": [
    "# Converting to Numbers\n"
   ]
  },
  {
   "cell_type": "code",
   "execution_count": 93,
   "id": "01db38db",
   "metadata": {},
   "outputs": [
    {
     "data": {
      "text/plain": [
       "array([['5', '1', '36', '13', '1', '1'],\n",
       "       ['', '1', '36', '5', '1', '4'],\n",
       "       ['9', '1', '36', '10', '1', '4'],\n",
       "       ...,\n",
       "       ['6', '1', '36', '5', '1', '1'],\n",
       "       ['4', '1', '36', '17', '1', '3'],\n",
       "       ['12', '1', '36', '4', '0', '3']], dtype='<U69')"
      ]
     },
     "execution_count": 93,
     "metadata": {},
     "output_type": "execute_result"
    }
   ],
   "source": [
    "loan_data_strings"
   ]
  },
  {
   "cell_type": "code",
   "execution_count": 96,
   "id": "7e7f337a",
   "metadata": {},
   "outputs": [],
   "source": [
    "loan_data_strings = np.where(np.char.isnumeric(loan_data_strings), loan_data_strings, '0').astype(int)\n"
   ]
  },
  {
   "cell_type": "code",
   "execution_count": 97,
   "id": "3332a1c9",
   "metadata": {},
   "outputs": [
    {
     "data": {
      "text/plain": [
       "array([[ 5,  1, 36, 13,  1,  1],\n",
       "       [ 0,  1, 36,  5,  1,  4],\n",
       "       [ 9,  1, 36, 10,  1,  4],\n",
       "       ...,\n",
       "       [ 6,  1, 36,  5,  1,  1],\n",
       "       [ 4,  1, 36, 17,  1,  3],\n",
       "       [12,  1, 36,  4,  0,  3]])"
      ]
     },
     "execution_count": 97,
     "metadata": {},
     "output_type": "execute_result"
    }
   ],
   "source": [
    "loan_data_strings"
   ]
  },
  {
   "cell_type": "markdown",
   "id": "ebd13516",
   "metadata": {},
   "source": [
    "# Check point 1: Strings"
   ]
  },
  {
   "cell_type": "code",
   "execution_count": 98,
   "id": "8e14ed01",
   "metadata": {},
   "outputs": [],
   "source": [
    "checkpoint_strings = checkpoint(\"Checkpoint-Strings\", header_strings, loan_data_strings)"
   ]
  },
  {
   "cell_type": "code",
   "execution_count": 99,
   "id": "51531592",
   "metadata": {},
   "outputs": [
    {
     "data": {
      "text/plain": [
       "array(['issue_date', 'loan_status', 'term', 'sub_grade', 'verification_status', 'state_address'],\n",
       "      dtype='<U19')"
      ]
     },
     "execution_count": 99,
     "metadata": {},
     "output_type": "execute_result"
    }
   ],
   "source": [
    "checkpoint_strings[\"header\"]\n"
   ]
  },
  {
   "cell_type": "code",
   "execution_count": 100,
   "id": "2433fc48",
   "metadata": {},
   "outputs": [
    {
     "data": {
      "text/plain": [
       "array([[ 5,  1, 36, 13,  1,  1],\n",
       "       [ 0,  1, 36,  5,  1,  4],\n",
       "       [ 9,  1, 36, 10,  1,  4],\n",
       "       ...,\n",
       "       [ 6,  1, 36,  5,  1,  1],\n",
       "       [ 4,  1, 36, 17,  1,  3],\n",
       "       [12,  1, 36,  4,  0,  3]])"
      ]
     },
     "execution_count": 100,
     "metadata": {},
     "output_type": "execute_result"
    }
   ],
   "source": [
    "checkpoint_strings[\"data\"]"
   ]
  },
  {
   "cell_type": "code",
   "execution_count": 101,
   "id": "163da819",
   "metadata": {},
   "outputs": [
    {
     "data": {
      "text/plain": [
       "True"
      ]
     },
     "execution_count": 101,
     "metadata": {},
     "output_type": "execute_result"
    }
   ],
   "source": [
    "np.array_equal(checkpoint_strings['data'], loan_data_strings)"
   ]
  },
  {
   "cell_type": "markdown",
   "id": "a95c7a2a",
   "metadata": {},
   "source": [
    "# Manipulating Numeric Columns"
   ]
  },
  {
   "cell_type": "code",
   "execution_count": 102,
   "id": "66b2aad7",
   "metadata": {},
   "outputs": [
    {
     "data": {
      "text/plain": [
       "array([[48010226.  ,    35000.  ,    35000.  ,       13.33,     1184.86,     9452.96],\n",
       "       [57693261.  ,    30000.  ,    30000.  , 68616520.  ,      938.57,     4679.7 ],\n",
       "       [59432726.  ,    15000.  ,    15000.  , 68616520.  ,      494.86,     1969.83],\n",
       "       ...,\n",
       "       [50415990.  ,    10000.  ,    10000.  , 68616520.  , 68616520.  ,     2185.64],\n",
       "       [46154151.  , 68616520.  ,    10000.  ,       16.55,      354.3 ,     3199.4 ],\n",
       "       [66055249.  ,    10000.  ,    10000.  , 68616520.  ,      309.97,      301.9 ]])"
      ]
     },
     "execution_count": 102,
     "metadata": {},
     "output_type": "execute_result"
    }
   ],
   "source": [
    "loan_data_numeric"
   ]
  },
  {
   "cell_type": "code",
   "execution_count": 103,
   "id": "48c52c05",
   "metadata": {},
   "outputs": [
    {
     "data": {
      "text/plain": [
       "0"
      ]
     },
     "execution_count": 103,
     "metadata": {},
     "output_type": "execute_result"
    }
   ],
   "source": [
    "np.isnan(loan_data_numeric).sum()"
   ]
  },
  {
   "cell_type": "markdown",
   "id": "aa6e1530",
   "metadata": {},
   "source": [
    "# Substitute \"Filler\" Values"
   ]
  },
  {
   "cell_type": "code",
   "execution_count": 104,
   "id": "a316fb30",
   "metadata": {},
   "outputs": [
    {
     "data": {
      "text/plain": [
       "array(['id', 'loan_amnt', 'funded_amnt', 'int_rate', 'installment', 'total_pymnt'], dtype='<U19')"
      ]
     },
     "execution_count": 104,
     "metadata": {},
     "output_type": "execute_result"
    }
   ],
   "source": [
    "header_numeric"
   ]
  },
  {
   "cell_type": "markdown",
   "id": "8065c1a5",
   "metadata": {},
   "source": [
    "_There aren't any missing values in the array._"
   ]
  },
  {
   "cell_type": "markdown",
   "id": "9c83727f",
   "metadata": {},
   "source": [
    "_We must substitute all those fillers with the worst possible values._"
   ]
  },
  {
   "cell_type": "markdown",
   "id": "31ba1c25",
   "metadata": {},
   "source": [
    "_We must check wheather any of the elements of this column equal the temporary_fill_"
   ]
  },
  {
   "cell_type": "markdown",
   "id": "9347499b",
   "metadata": {},
   "source": [
    "# ID"
   ]
  },
  {
   "cell_type": "code",
   "execution_count": 105,
   "id": "28aca49b",
   "metadata": {},
   "outputs": [
    {
     "data": {
      "text/plain": [
       "68616520.0"
      ]
     },
     "execution_count": 105,
     "metadata": {},
     "output_type": "execute_result"
    }
   ],
   "source": [
    "temporary_fill"
   ]
  },
  {
   "cell_type": "code",
   "execution_count": 106,
   "id": "12bf730e",
   "metadata": {},
   "outputs": [
    {
     "data": {
      "text/plain": [
       "array([False, False, False, ..., False, False, False])"
      ]
     },
     "execution_count": 106,
     "metadata": {},
     "output_type": "execute_result"
    }
   ],
   "source": [
    "np.isin(loan_data_numeric[:,0], temporary_fill)"
   ]
  },
  {
   "cell_type": "markdown",
   "id": "01327b57",
   "metadata": {},
   "source": [
    "_temporary_fill = np.nanmax(raw_data_np) +1\n",
    "temporary_mean = np.nanmean(raw_data_np,axis =0)_"
   ]
  },
  {
   "cell_type": "code",
   "execution_count": 107,
   "id": "5f618479",
   "metadata": {},
   "outputs": [
    {
     "data": {
      "text/plain": [
       "0"
      ]
     },
     "execution_count": 107,
     "metadata": {},
     "output_type": "execute_result"
    }
   ],
   "source": [
    "np.isin(loan_data_numeric[:,0], temporary_fill).sum()"
   ]
  },
  {
   "cell_type": "code",
   "execution_count": 108,
   "id": "71d66a76",
   "metadata": {},
   "outputs": [
    {
     "data": {
      "text/plain": [
       "array(['id', 'loan_amnt', 'funded_amnt', 'int_rate', 'installment', 'total_pymnt'], dtype='<U19')"
      ]
     },
     "execution_count": 108,
     "metadata": {},
     "output_type": "execute_result"
    }
   ],
   "source": [
    "header_numeric"
   ]
  },
  {
   "cell_type": "markdown",
   "id": "9dc705c4",
   "metadata": {},
   "source": [
    "# Temporary Stats"
   ]
  },
  {
   "cell_type": "code",
   "execution_count": 109,
   "id": "a2d5d253",
   "metadata": {},
   "outputs": [
    {
     "data": {
      "text/plain": [
       "array([[  373332.  ,     1000.  ,     1000.  ,        6.  ,       31.42,        0.  ],\n",
       "       [54015809.19,    15273.46,    15311.04,       16.62,      440.92,     3143.85],\n",
       "       [68616519.  ,    35000.  ,    35000.  ,       28.99,     1372.97,    41913.62]])"
      ]
     },
     "execution_count": 109,
     "metadata": {},
     "output_type": "execute_result"
    }
   ],
   "source": [
    "temporary_stats[:, columns_numeric]"
   ]
  },
  {
   "cell_type": "markdown",
   "id": "b5c6a91e",
   "metadata": {},
   "source": [
    "# Funded Amount"
   ]
  },
  {
   "cell_type": "code",
   "execution_count": 110,
   "id": "2f711662",
   "metadata": {},
   "outputs": [
    {
     "data": {
      "text/plain": [
       "array([35000., 30000., 15000., ..., 10000., 10000., 10000.])"
      ]
     },
     "execution_count": 110,
     "metadata": {},
     "output_type": "execute_result"
    }
   ],
   "source": [
    "loan_data_numeric[:,2]"
   ]
  },
  {
   "cell_type": "code",
   "execution_count": 111,
   "id": "378d339e",
   "metadata": {},
   "outputs": [
    {
     "data": {
      "text/plain": [
       "array([35000., 30000., 15000., ..., 10000., 10000., 10000.])"
      ]
     },
     "execution_count": 111,
     "metadata": {},
     "output_type": "execute_result"
    }
   ],
   "source": [
    "loan_data_numeric[:,2] = np.where(loan_data_numeric[:,2] == temporary_fill, \n",
    "                                  temporary_stats[0, columns_numeric[2]],\n",
    "                                  loan_data_numeric[:,2])\n",
    "loan_data_numeric[:,2]"
   ]
  },
  {
   "cell_type": "code",
   "execution_count": 112,
   "id": "69f3d59f",
   "metadata": {},
   "outputs": [
    {
     "data": {
      "text/plain": [
       "6.0"
      ]
     },
     "execution_count": 112,
     "metadata": {},
     "output_type": "execute_result"
    }
   ],
   "source": [
    "temporary_stats[0,columns_numeric[3]]"
   ]
  },
  {
   "cell_type": "markdown",
   "id": "42f3cf52",
   "metadata": {},
   "source": [
    "Even though we converted the values of loan_status earlier we generated temporary stats even before that."
   ]
  },
  {
   "cell_type": "markdown",
   "id": "04fccb51",
   "metadata": {},
   "source": [
    "Filling out the remaining numeric coloumns accorfing to the head of Data Analytics casting directions"
   ]
  },
  {
   "cell_type": "markdown",
   "id": "28fede1f",
   "metadata": {},
   "source": [
    "# Loaned Amount, Interest Rate, Total Payment, Installment"
   ]
  },
  {
   "cell_type": "code",
   "execution_count": 113,
   "id": "2975f25a",
   "metadata": {},
   "outputs": [
    {
     "data": {
      "text/plain": [
       "array(['id', 'loan_amnt', 'funded_amnt', 'int_rate', 'installment', 'total_pymnt'], dtype='<U19')"
      ]
     },
     "execution_count": 113,
     "metadata": {},
     "output_type": "execute_result"
    }
   ],
   "source": [
    "header_numeric"
   ]
  },
  {
   "cell_type": "code",
   "execution_count": 114,
   "id": "cd95e810",
   "metadata": {},
   "outputs": [],
   "source": [
    "for i in [1,3,4,5]:\n",
    "    loan_data_numeric[:,i] = np.where(loan_data_numeric[:,i] == temporary_fill,\n",
    "                                      temporary_stats[2, columns_numeric[i]],\n",
    "                                      loan_data_numeric[:,i])"
   ]
  },
  {
   "cell_type": "code",
   "execution_count": 115,
   "id": "26c8fbcb",
   "metadata": {},
   "outputs": [
    {
     "data": {
      "text/plain": [
       "array([[48010226.  ,    35000.  ,    35000.  ,       13.33,     1184.86,     9452.96],\n",
       "       [57693261.  ,    30000.  ,    30000.  ,       28.99,      938.57,     4679.7 ],\n",
       "       [59432726.  ,    15000.  ,    15000.  ,       28.99,      494.86,     1969.83],\n",
       "       ...,\n",
       "       [50415990.  ,    10000.  ,    10000.  ,       28.99,     1372.97,     2185.64],\n",
       "       [46154151.  ,    35000.  ,    10000.  ,       16.55,      354.3 ,     3199.4 ],\n",
       "       [66055249.  ,    10000.  ,    10000.  ,       28.99,      309.97,      301.9 ]])"
      ]
     },
     "execution_count": 115,
     "metadata": {},
     "output_type": "execute_result"
    }
   ],
   "source": [
    "loan_data_numeric"
   ]
  },
  {
   "cell_type": "markdown",
   "id": "cedb7226",
   "metadata": {},
   "source": [
    "**Currency Change**"
   ]
  },
  {
   "cell_type": "markdown",
   "id": "0c806429",
   "metadata": {},
   "source": [
    "*The Exchange Rate*"
   ]
  },
  {
   "cell_type": "code",
   "execution_count": 116,
   "id": "a210af0a",
   "metadata": {},
   "outputs": [
    {
     "data": {
      "text/plain": [
       "array([1.13, 1.12, 1.08, 1.11, 1.1 , 1.12, 1.09, 1.13, 1.13, 1.1 , 1.06, 1.09])"
      ]
     },
     "execution_count": 116,
     "metadata": {},
     "output_type": "execute_result"
    }
   ],
   "source": [
    "EUR_USD = np.genfromtxt(\"EUR-USD.csv\", delimiter = ',', autostrip = True, skip_header = 1, usecols = 3)\n",
    "EUR_USD"
   ]
  },
  {
   "cell_type": "code",
   "execution_count": 117,
   "id": "8e4aaad2",
   "metadata": {},
   "outputs": [
    {
     "data": {
      "text/plain": [
       "array([ 5,  0,  9, ...,  6,  4, 12])"
      ]
     },
     "execution_count": 117,
     "metadata": {},
     "output_type": "execute_result"
    }
   ],
   "source": [
    "loan_data_strings[:,0]"
   ]
  },
  {
   "cell_type": "code",
   "execution_count": 118,
   "id": "330d41a7",
   "metadata": {},
   "outputs": [
    {
     "data": {
      "text/plain": [
       "array([1.1 , 1.11, 1.13, ..., 1.12, 1.11, 1.09])"
      ]
     },
     "execution_count": 118,
     "metadata": {},
     "output_type": "execute_result"
    }
   ],
   "source": [
    "exchange_rate = loan_data_strings[:,0]\n",
    "\n",
    "for i in range(1,13):\n",
    "    exchange_rate = np.where(exchange_rate == i,\n",
    "                             EUR_USD[i-1],\n",
    "                             exchange_rate)    \n",
    "\n",
    "exchange_rate = np.where(exchange_rate == 0,\n",
    "                         np.mean(EUR_USD),\n",
    "                         exchange_rate)\n",
    "\n",
    "exchange_rate"
   ]
  },
  {
   "cell_type": "code",
   "execution_count": 119,
   "id": "21256e2e",
   "metadata": {},
   "outputs": [
    {
     "data": {
      "text/plain": [
       "(10000,)"
      ]
     },
     "execution_count": 119,
     "metadata": {},
     "output_type": "execute_result"
    }
   ],
   "source": [
    "exchange_rate.shape"
   ]
  },
  {
   "cell_type": "code",
   "execution_count": 120,
   "id": "1dd1a0e4",
   "metadata": {},
   "outputs": [
    {
     "data": {
      "text/plain": [
       "(10000, 6)"
      ]
     },
     "execution_count": 120,
     "metadata": {},
     "output_type": "execute_result"
    }
   ],
   "source": [
    "loan_data_numeric.shape"
   ]
  },
  {
   "cell_type": "code",
   "execution_count": 121,
   "id": "a1cc8dc3",
   "metadata": {},
   "outputs": [],
   "source": [
    "exchange_rate = np.reshape(exchange_rate, (10000,1))"
   ]
  },
  {
   "cell_type": "code",
   "execution_count": 122,
   "id": "96c7d758",
   "metadata": {},
   "outputs": [],
   "source": [
    "loan_data_numeric = np.hstack((loan_data_numeric, exchange_rate))"
   ]
  },
  {
   "cell_type": "code",
   "execution_count": 123,
   "id": "f758f80d",
   "metadata": {},
   "outputs": [
    {
     "data": {
      "text/plain": [
       "array(['id', 'loan_amnt', 'funded_amnt', 'int_rate', 'installment', 'total_pymnt', 'exchange_rate'],\n",
       "      dtype='<U19')"
      ]
     },
     "execution_count": 123,
     "metadata": {},
     "output_type": "execute_result"
    }
   ],
   "source": [
    "header_numeric = np.concatenate((header_numeric, np.array(['exchange_rate'])))\n",
    "header_numeric"
   ]
  },
  {
   "cell_type": "markdown",
   "id": "8788134e",
   "metadata": {},
   "source": [
    "**From USD to EUR**"
   ]
  },
  {
   "cell_type": "code",
   "execution_count": 124,
   "id": "65d6f3e4",
   "metadata": {},
   "outputs": [
    {
     "data": {
      "text/plain": [
       "array(['id', 'loan_amnt', 'funded_amnt', 'int_rate', 'installment', 'total_pymnt', 'exchange_rate'],\n",
       "      dtype='<U19')"
      ]
     },
     "execution_count": 124,
     "metadata": {},
     "output_type": "execute_result"
    }
   ],
   "source": [
    "header_numeric"
   ]
  },
  {
   "cell_type": "code",
   "execution_count": 125,
   "id": "7ee8f97e",
   "metadata": {},
   "outputs": [],
   "source": [
    "columns_dollar = np.array([1,2,4,5])"
   ]
  },
  {
   "cell_type": "code",
   "execution_count": 126,
   "id": "d4367f97",
   "metadata": {},
   "outputs": [
    {
     "data": {
      "text/plain": [
       "array([1.1 , 1.11, 1.13, ..., 1.12, 1.11, 1.09])"
      ]
     },
     "execution_count": 126,
     "metadata": {},
     "output_type": "execute_result"
    }
   ],
   "source": [
    "loan_data_numeric[:,6]"
   ]
  },
  {
   "cell_type": "code",
   "execution_count": 127,
   "id": "9d1d726a",
   "metadata": {},
   "outputs": [
    {
     "ename": "SyntaxError",
     "evalue": "incomplete input (2221160274.py, line 2)",
     "output_type": "error",
     "traceback": [
      "\u001b[1;36m  Cell \u001b[1;32mIn[127], line 2\u001b[1;36m\u001b[0m\n\u001b[1;33m    loan_data_numeric = np.hstack((loan_data_numeric, np.reshape(loan_data_numeric[:,i] / loan_data_numeric[:,6], (10000,1)\u001b[0m\n\u001b[1;37m                                                                                                                           ^\u001b[0m\n\u001b[1;31mSyntaxError\u001b[0m\u001b[1;31m:\u001b[0m incomplete input\n"
     ]
    }
   ],
   "source": [
    "for i in columns_dollar:\n",
    "    loan_data_numeric = np.hstack((loan_data_numeric, np.reshape(loan_data_numeric[:,i] / loan_data_numeric[:,6], (10000,1)"
   ]
  },
  {
   "cell_type": "code",
   "execution_count": 128,
   "id": "6ade2f50",
   "metadata": {},
   "outputs": [
    {
     "data": {
      "text/plain": [
       "(10000, 7)"
      ]
     },
     "execution_count": 128,
     "metadata": {},
     "output_type": "execute_result"
    }
   ],
   "source": [
    "loan_data_numeric.shape"
   ]
  },
  {
   "cell_type": "code",
   "execution_count": 129,
   "id": "571e7b30",
   "metadata": {},
   "outputs": [
    {
     "data": {
      "text/plain": [
       "array([[48010226.  ,    35000.  ,    35000.  , ...,     1184.86,     9452.96,        1.1 ],\n",
       "       [57693261.  ,    30000.  ,    30000.  , ...,      938.57,     4679.7 ,        1.11],\n",
       "       [59432726.  ,    15000.  ,    15000.  , ...,      494.86,     1969.83,        1.13],\n",
       "       ...,\n",
       "       [50415990.  ,    10000.  ,    10000.  , ...,     1372.97,     2185.64,        1.12],\n",
       "       [46154151.  ,    35000.  ,    10000.  , ...,      354.3 ,     3199.4 ,        1.11],\n",
       "       [66055249.  ,    10000.  ,    10000.  , ...,      309.97,      301.9 ,        1.09]])"
      ]
     },
     "execution_count": 129,
     "metadata": {},
     "output_type": "execute_result"
    }
   ],
   "source": [
    "loan_data_numeric"
   ]
  },
  {
   "cell_type": "markdown",
   "id": "c351791a",
   "metadata": {},
   "source": [
    "**Expanding the header**"
   ]
  },
  {
   "cell_type": "code",
   "execution_count": 130,
   "id": "2fb513e8",
   "metadata": {},
   "outputs": [],
   "source": [
    "header_additional = np.array([column_name + '_EUR' for column_name in header_numeric[columns_dollar]])"
   ]
  },
  {
   "cell_type": "code",
   "execution_count": 131,
   "id": "0a15cc54",
   "metadata": {},
   "outputs": [
    {
     "data": {
      "text/plain": [
       "array(['loan_amnt_EUR', 'funded_amnt_EUR', 'installment_EUR', 'total_pymnt_EUR'], dtype='<U15')"
      ]
     },
     "execution_count": 131,
     "metadata": {},
     "output_type": "execute_result"
    }
   ],
   "source": [
    "header_additional"
   ]
  },
  {
   "cell_type": "code",
   "execution_count": 132,
   "id": "e8e28816",
   "metadata": {},
   "outputs": [],
   "source": [
    "header_numeric = np.concatenate((header_numeric, header_additional))"
   ]
  },
  {
   "cell_type": "code",
   "execution_count": 133,
   "id": "315b79dc",
   "metadata": {},
   "outputs": [
    {
     "data": {
      "text/plain": [
       "array(['id', 'loan_amnt', 'funded_amnt', 'int_rate', 'installment', 'total_pymnt', 'exchange_rate',\n",
       "       'loan_amnt_EUR', 'funded_amnt_EUR', 'installment_EUR', 'total_pymnt_EUR'], dtype='<U19')"
      ]
     },
     "execution_count": 133,
     "metadata": {},
     "output_type": "execute_result"
    }
   ],
   "source": [
    "header_numeric"
   ]
  },
  {
   "cell_type": "code",
   "execution_count": 134,
   "id": "d238f553",
   "metadata": {},
   "outputs": [],
   "source": [
    "header_numeric[columns_dollar] = np.array([column_name + '_USD' for column_name in header_numeric[columns_dollar]])"
   ]
  },
  {
   "cell_type": "code",
   "execution_count": 135,
   "id": "2b814965",
   "metadata": {},
   "outputs": [
    {
     "data": {
      "text/plain": [
       "array(['id', 'loan_amnt_USD', 'funded_amnt_USD', 'int_rate', 'installment_USD', 'total_pymnt_USD',\n",
       "       'exchange_rate', 'loan_amnt_EUR', 'funded_amnt_EUR', 'installment_EUR', 'total_pymnt_EUR'],\n",
       "      dtype='<U19')"
      ]
     },
     "execution_count": 135,
     "metadata": {},
     "output_type": "execute_result"
    }
   ],
   "source": [
    "header_numeric"
   ]
  },
  {
   "cell_type": "code",
   "execution_count": 136,
   "id": "0315ccf1",
   "metadata": {},
   "outputs": [],
   "source": [
    "columns_index_order = [0,1,7,2,8,3,4,9,5,10,6]"
   ]
  },
  {
   "cell_type": "code",
   "execution_count": 137,
   "id": "e9792842",
   "metadata": {},
   "outputs": [],
   "source": [
    "header_numeric = header_numeric[columns_index_order]"
   ]
  },
  {
   "cell_type": "code",
   "execution_count": 138,
   "id": "93109444",
   "metadata": {},
   "outputs": [
    {
     "data": {
      "text/plain": [
       "array([[48010226.  ,    35000.  ,    35000.  , ...,     1184.86,     9452.96,        1.1 ],\n",
       "       [57693261.  ,    30000.  ,    30000.  , ...,      938.57,     4679.7 ,        1.11],\n",
       "       [59432726.  ,    15000.  ,    15000.  , ...,      494.86,     1969.83,        1.13],\n",
       "       ...,\n",
       "       [50415990.  ,    10000.  ,    10000.  , ...,     1372.97,     2185.64,        1.12],\n",
       "       [46154151.  ,    35000.  ,    10000.  , ...,      354.3 ,     3199.4 ,        1.11],\n",
       "       [66055249.  ,    10000.  ,    10000.  , ...,      309.97,      301.9 ,        1.09]])"
      ]
     },
     "execution_count": 138,
     "metadata": {},
     "output_type": "execute_result"
    }
   ],
   "source": [
    "loan_data_numeric"
   ]
  },
  {
   "cell_type": "code",
   "execution_count": 139,
   "id": "5326ea8a",
   "metadata": {},
   "outputs": [
    {
     "ename": "IndexError",
     "evalue": "index 7 is out of bounds for axis 1 with size 7",
     "output_type": "error",
     "traceback": [
      "\u001b[1;31m---------------------------------------------------------------------------\u001b[0m",
      "\u001b[1;31mIndexError\u001b[0m                                Traceback (most recent call last)",
      "Cell \u001b[1;32mIn[139], line 1\u001b[0m\n\u001b[1;32m----> 1\u001b[0m loan_data_numeric \u001b[38;5;241m=\u001b[39m loan_data_numeric[:,columns_index_order]\n",
      "\u001b[1;31mIndexError\u001b[0m: index 7 is out of bounds for axis 1 with size 7"
     ]
    }
   ],
   "source": [
    "loan_data_numeric = loan_data_numeric[:,columns_index_order]"
   ]
  },
  {
   "cell_type": "markdown",
   "id": "9e2e9621",
   "metadata": {},
   "source": [
    "**Interest Rate**"
   ]
  },
  {
   "cell_type": "code",
   "execution_count": 140,
   "id": "d9099305",
   "metadata": {},
   "outputs": [
    {
     "data": {
      "text/plain": [
       "array(['id', 'loan_amnt_USD', 'loan_amnt_EUR', 'funded_amnt_USD', 'funded_amnt_EUR', 'int_rate',\n",
       "       'installment_USD', 'installment_EUR', 'total_pymnt_USD', 'total_pymnt_EUR', 'exchange_rate'],\n",
       "      dtype='<U19')"
      ]
     },
     "execution_count": 140,
     "metadata": {},
     "output_type": "execute_result"
    }
   ],
   "source": [
    "header_numeric"
   ]
  },
  {
   "cell_type": "code",
   "execution_count": 141,
   "id": "0fb98102",
   "metadata": {},
   "outputs": [
    {
     "data": {
      "text/plain": [
       "array([9452.96, 4679.7 , 1969.83, ..., 2185.64, 3199.4 ,  301.9 ])"
      ]
     },
     "execution_count": 141,
     "metadata": {},
     "output_type": "execute_result"
    }
   ],
   "source": [
    "loan_data_numeric[:,5]"
   ]
  },
  {
   "cell_type": "code",
   "execution_count": 142,
   "id": "3e8dcdc0",
   "metadata": {},
   "outputs": [],
   "source": [
    "loan_data_numeric[:,5] = loan_data_numeric[:,5]/100"
   ]
  },
  {
   "cell_type": "code",
   "execution_count": 143,
   "id": "91619925",
   "metadata": {},
   "outputs": [
    {
     "data": {
      "text/plain": [
       "array([94.53, 46.8 , 19.7 , ..., 21.86, 31.99,  3.02])"
      ]
     },
     "execution_count": 143,
     "metadata": {},
     "output_type": "execute_result"
    }
   ],
   "source": [
    "loan_data_numeric[:,5]"
   ]
  },
  {
   "cell_type": "markdown",
   "id": "15055c74",
   "metadata": {},
   "source": [
    "**Checkpoint 2: Numeric**"
   ]
  },
  {
   "cell_type": "code",
   "execution_count": 144,
   "id": "2afdf70a",
   "metadata": {},
   "outputs": [],
   "source": [
    "checkpoint_numeric = checkpoint(\"Checkpoint-Numeric\", header_numeric, loan_data_numeric)"
   ]
  },
  {
   "cell_type": "code",
   "execution_count": 145,
   "id": "ff8c0807",
   "metadata": {},
   "outputs": [
    {
     "data": {
      "text/plain": [
       "(array(['id', 'loan_amnt_USD', 'loan_amnt_EUR', 'funded_amnt_USD', 'funded_amnt_EUR', 'int_rate',\n",
       "        'installment_USD', 'installment_EUR', 'total_pymnt_USD', 'total_pymnt_EUR', 'exchange_rate'],\n",
       "       dtype='<U19'),\n",
       " array([[48010226.  ,    35000.  ,    35000.  , ...,     1184.86,       94.53,        1.1 ],\n",
       "        [57693261.  ,    30000.  ,    30000.  , ...,      938.57,       46.8 ,        1.11],\n",
       "        [59432726.  ,    15000.  ,    15000.  , ...,      494.86,       19.7 ,        1.13],\n",
       "        ...,\n",
       "        [50415990.  ,    10000.  ,    10000.  , ...,     1372.97,       21.86,        1.12],\n",
       "        [46154151.  ,    35000.  ,    10000.  , ...,      354.3 ,       31.99,        1.11],\n",
       "        [66055249.  ,    10000.  ,    10000.  , ...,      309.97,        3.02,        1.09]]))"
      ]
     },
     "execution_count": 145,
     "metadata": {},
     "output_type": "execute_result"
    }
   ],
   "source": [
    "checkpoint_numeric['header'], checkpoint_numeric['data']"
   ]
  },
  {
   "cell_type": "markdown",
   "id": "e6b5378c",
   "metadata": {},
   "source": [
    "# Creating the \"Complete\" Dataset"
   ]
  },
  {
   "cell_type": "code",
   "execution_count": 146,
   "id": "75714263",
   "metadata": {},
   "outputs": [
    {
     "data": {
      "text/plain": [
       "(10000, 6)"
      ]
     },
     "execution_count": 146,
     "metadata": {},
     "output_type": "execute_result"
    }
   ],
   "source": [
    "checkpoint_strings['data'].shape"
   ]
  },
  {
   "cell_type": "code",
   "execution_count": 147,
   "id": "3caa15e3",
   "metadata": {},
   "outputs": [
    {
     "data": {
      "text/plain": [
       "(10000, 7)"
      ]
     },
     "execution_count": 147,
     "metadata": {},
     "output_type": "execute_result"
    }
   ],
   "source": [
    "checkpoint_numeric['data'].shape"
   ]
  },
  {
   "cell_type": "code",
   "execution_count": 148,
   "id": "35e73790",
   "metadata": {},
   "outputs": [],
   "source": [
    "loan_data = np.hstack((checkpoint_numeric['data'], checkpoint_strings['data']))"
   ]
  },
  {
   "cell_type": "code",
   "execution_count": 149,
   "id": "52754d28",
   "metadata": {},
   "outputs": [
    {
     "data": {
      "text/plain": [
       "array([[48010226.,    35000.,    35000., ...,       13.,        1.,        1.],\n",
       "       [57693261.,    30000.,    30000., ...,        5.,        1.,        4.],\n",
       "       [59432726.,    15000.,    15000., ...,       10.,        1.,        4.],\n",
       "       ...,\n",
       "       [50415990.,    10000.,    10000., ...,        5.,        1.,        1.],\n",
       "       [46154151.,    35000.,    10000., ...,       17.,        1.,        3.],\n",
       "       [66055249.,    10000.,    10000., ...,        4.,        0.,        3.]])"
      ]
     },
     "execution_count": 149,
     "metadata": {},
     "output_type": "execute_result"
    }
   ],
   "source": [
    "loan_data"
   ]
  },
  {
   "cell_type": "code",
   "execution_count": 150,
   "id": "d44643bd",
   "metadata": {},
   "outputs": [
    {
     "data": {
      "text/plain": [
       "0"
      ]
     },
     "execution_count": 150,
     "metadata": {},
     "output_type": "execute_result"
    }
   ],
   "source": [
    "np.isnan(loan_data).sum()"
   ]
  },
  {
   "cell_type": "code",
   "execution_count": 151,
   "id": "7d2b9f41",
   "metadata": {},
   "outputs": [],
   "source": [
    "header_full = np.concatenate((checkpoint_numeric['header'], checkpoint_strings['header']))"
   ]
  },
  {
   "cell_type": "markdown",
   "id": "4c104bdc",
   "metadata": {},
   "source": [
    "**Sorting the New Dataset**"
   ]
  },
  {
   "cell_type": "code",
   "execution_count": 152,
   "id": "6786e13b",
   "metadata": {},
   "outputs": [],
   "source": [
    "loan_data = loan_data[np.argsort(loan_data[:,0])]"
   ]
  },
  {
   "cell_type": "code",
   "execution_count": 153,
   "id": "fdae6a2b",
   "metadata": {},
   "outputs": [
    {
     "data": {
      "text/plain": [
       "array([[  373332.,     9950.,     1000., ...,       21.,        0.,        1.],\n",
       "       [  575239.,    12000.,    12000., ...,       36.,        1.,        2.],\n",
       "       [  707689.,    10000.,    10000., ...,       13.,        1.,        0.],\n",
       "       ...,\n",
       "       [68614880.,     5600.,     5600., ...,        8.,        1.,        1.],\n",
       "       [68615915.,     4000.,     4000., ...,       10.,        1.,        2.],\n",
       "       [68616519.,    21600.,    21600., ...,        3.,        0.,        2.]])"
      ]
     },
     "execution_count": 153,
     "metadata": {},
     "output_type": "execute_result"
    }
   ],
   "source": [
    "loan_data"
   ]
  },
  {
   "cell_type": "code",
   "execution_count": 154,
   "id": "95c58d9e",
   "metadata": {},
   "outputs": [
    {
     "data": {
      "text/plain": [
       "array([   0,    1,    2, ..., 9997, 9998, 9999], dtype=int64)"
      ]
     },
     "execution_count": 154,
     "metadata": {},
     "output_type": "execute_result"
    }
   ],
   "source": [
    "np.argsort(loan_data[:,0])"
   ]
  },
  {
   "cell_type": "markdown",
   "id": "4eaddde7",
   "metadata": {},
   "source": [
    "**Storing the New Dataset**"
   ]
  },
  {
   "cell_type": "code",
   "execution_count": 155,
   "id": "ec177093",
   "metadata": {},
   "outputs": [
    {
     "ename": "ValueError",
     "evalue": "all the input array dimensions except for the concatenation axis must match exactly, but along dimension 1, the array at index 0 has size 17 and the array at index 1 has size 13",
     "output_type": "error",
     "traceback": [
      "\u001b[1;31m---------------------------------------------------------------------------\u001b[0m",
      "\u001b[1;31mValueError\u001b[0m                                Traceback (most recent call last)",
      "Cell \u001b[1;32mIn[155], line 1\u001b[0m\n\u001b[1;32m----> 1\u001b[0m loan_data \u001b[38;5;241m=\u001b[39m np\u001b[38;5;241m.\u001b[39mvstack((header_full, loan_data))\n",
      "File \u001b[1;32m<__array_function__ internals>:200\u001b[0m, in \u001b[0;36mvstack\u001b[1;34m(*args, **kwargs)\u001b[0m\n",
      "File \u001b[1;32mC:\\ProgramData\\anaconda3\\Lib\\site-packages\\numpy\\core\\shape_base.py:296\u001b[0m, in \u001b[0;36mvstack\u001b[1;34m(tup, dtype, casting)\u001b[0m\n\u001b[0;32m    294\u001b[0m \u001b[38;5;28;01mif\u001b[39;00m \u001b[38;5;129;01mnot\u001b[39;00m \u001b[38;5;28misinstance\u001b[39m(arrs, \u001b[38;5;28mlist\u001b[39m):\n\u001b[0;32m    295\u001b[0m     arrs \u001b[38;5;241m=\u001b[39m [arrs]\n\u001b[1;32m--> 296\u001b[0m \u001b[38;5;28;01mreturn\u001b[39;00m _nx\u001b[38;5;241m.\u001b[39mconcatenate(arrs, \u001b[38;5;241m0\u001b[39m, dtype\u001b[38;5;241m=\u001b[39mdtype, casting\u001b[38;5;241m=\u001b[39mcasting)\n",
      "File \u001b[1;32m<__array_function__ internals>:200\u001b[0m, in \u001b[0;36mconcatenate\u001b[1;34m(*args, **kwargs)\u001b[0m\n",
      "\u001b[1;31mValueError\u001b[0m: all the input array dimensions except for the concatenation axis must match exactly, but along dimension 1, the array at index 0 has size 17 and the array at index 1 has size 13"
     ]
    }
   ],
   "source": [
    "loan_data = np.vstack((header_full, loan_data))"
   ]
  },
  {
   "cell_type": "code",
   "execution_count": 156,
   "id": "b5409f50",
   "metadata": {},
   "outputs": [],
   "source": [
    "np.savetxt(\"loan-data-preprocessed.csv\", \n",
    "           loan_data, \n",
    "           fmt = '%s',\n",
    "           delimiter = ',')"
   ]
  },
  {
   "cell_type": "code",
   "execution_count": null,
   "id": "1657337f",
   "metadata": {},
   "outputs": [],
   "source": []
  }
 ],
 "metadata": {
  "kernelspec": {
   "display_name": "Python 3 (ipykernel)",
   "language": "python",
   "name": "python3"
  },
  "language_info": {
   "codemirror_mode": {
    "name": "ipython",
    "version": 3
   },
   "file_extension": ".py",
   "mimetype": "text/x-python",
   "name": "python",
   "nbconvert_exporter": "python",
   "pygments_lexer": "ipython3",
   "version": "3.11.4"
  }
 },
 "nbformat": 4,
 "nbformat_minor": 5
}
